{
 "cells": [
  {
   "cell_type": "markdown",
   "metadata": {},
   "source": [
    "# Bayesian analyses and MCMC"
   ]
  },
  {
   "cell_type": "markdown",
   "metadata": {},
   "source": [
    "## Defining priors"
   ]
  },
  {
   "cell_type": "code",
   "execution_count": 1,
   "metadata": {},
   "outputs": [],
   "source": [
    "from likelihood import Priors, LikelihoodFunction\n",
    "from equations import DM_EXT_model\n",
    "\n",
    "model = DM_EXT_model()\n",
    "\n",
    "# Defining the prior intervals manually\n",
    "#intervals_constant = [(0, 1), (20, 100), (55, 225)]  # H_0, Omega_m, omega_0\n",
    "intervals_constant = [(0, 100), (0, 300), (-9, 5), (-3, 0)]  # H_0, Omega_m, omega_0\n",
    "intervals_p2 = [(0, 120), (0, 300), (-9, 5), (-3, 0), (-3, 3)]  # H_0, Omega_m, omega_0, omega_a\n",
    "intervals_p3 = [(20, 80), (55, 225), (-5, 5), (-3, 0), (-3, 3)]  # H_0, Omega_m, omega_0, omega_a\n",
    "\n",
    "# Creating specific instances of the priors\n",
    "#P_constant = Priors(['\\\\Omega_m', 'H_0', '\\\\omega_0', 'DM_{host,0}'], intervals_constant)\n",
    "P_constant = Priors(['H_0', 'A', '\\\\beta', '\\\\omega_0'], intervals_constant)\n",
    "P_p2 = Priors(['H_0', 'A', '\\\\beta', '\\\\omega_0', '\\\\omega_a'], intervals_p2)\n",
    "P_p3 = Priors(['H_0', 'A', '\\\\beta', '\\\\omega_0', '\\\\omega_a'], intervals_p3)\n",
    "\n",
    "# Creating an instance of the likelihood model\n",
    "LF_constant = LikelihoodFunction(\n",
    "    lambda z, H_0, A, beta, omega_0: model.DM_ext_th(\n",
    "        z=z,\n",
    "        f_IGM=0.83,\n",
    "        #DM_host_0=96*(1+z)**0.83,\n",
    "        model_type='constant',\n",
    "        Omega_b=None,  \n",
    "        Omega_m=None,     \n",
    "        H_today=H_0,\n",
    "        A=A,\n",
    "        beta=beta,\n",
    "        omega_0=omega_0,\n",
    "        cosmo_type='non_standard',\n",
    "        param_type='constant'\n",
    "    )\n",
    ")\n",
    "\n",
    "LF_p2 = LikelihoodFunction(\n",
    "    lambda z, H_0, A, beta, omega_0, omega_a: model.DM_ext_th(\n",
    "        z=z,\n",
    "        f_IGM=0.83,\n",
    "        #DM_host_0=96*(1+z)**0.83,\n",
    "        model_type='constant',\n",
    "        Omega_b=None,  \n",
    "        Omega_m=None,     \n",
    "        H_today=H_0,\n",
    "        A=A,\n",
    "        beta=beta,\n",
    "        omega_0=omega_0,  \n",
    "        omega_a=omega_a,\n",
    "        cosmo_type='non_standard',\n",
    "        param_type='CPL'\n",
    "    )\n",
    ")\n",
    "\n",
    "LF_p3 = LikelihoodFunction(\n",
    "    lambda z, H_0, A, beta, omega_0, omega_a: model.DM_ext_th(\n",
    "        z=z,\n",
    "        f_IGM=0.83,\n",
    "        #DM_host_0=96*(1+z)**0.83,\n",
    "        model_type='constant',\n",
    "        Omega_b=None,  \n",
    "        Omega_m=None,     \n",
    "        H_today=H_0,\n",
    "        A=A,\n",
    "        beta=beta,\n",
    "        omega_0=omega_0,  \n",
    "        omega_a=omega_a,\n",
    "        cosmo_type='non_standard',\n",
    "        param_type='BA'\n",
    "    )\n",
    ")"
   ]
  },
  {
   "cell_type": "markdown",
   "metadata": {},
   "source": [
    "## Preparing the samples"
   ]
  },
  {
   "cell_type": "markdown",
   "metadata": {},
   "source": [
    "### Analysis for 16 FRBs"
   ]
  },
  {
   "cell_type": "code",
   "execution_count": 2,
   "metadata": {},
   "outputs": [],
   "source": [
    "from obs_data import FRB_data\n",
    "import ultranest\n",
    "\n",
    "# Instantiate the FRB_data class for 16 FRBs\n",
    "frb_data_16 = FRB_data(n_frb=16)\n",
    "\n",
    "# Call the select_data method to get the observed data\n",
    "z_obs_16, DM_obs_ext_16, DM_obs_ext_error_16 = frb_data_16.select_data()\n",
    "\n",
    "z_values_16 = z_obs_16\n",
    "dm_ext_obs_16 = DM_obs_ext_16\n",
    "dm_ext_errors_16 =  DM_obs_ext_error_16\n",
    "\n",
    "# Configuring the ultranest samplers\n",
    "sampler_constant_16 = ultranest.ReactiveNestedSampler(\n",
    "    P_constant.param_names,\n",
    "    lambda params: LF_constant.log_likelihood(\n",
    "        params,\n",
    "        z_values=z_values_16,\n",
    "        y_obs=dm_ext_obs_16,\n",
    "        errors=dm_ext_errors_16\n",
    "    ),\n",
    "    P_constant.prior_transform\n",
    ")\n",
    "\n",
    "sampler_p2_16 = ultranest.ReactiveNestedSampler(\n",
    "    P_p2.param_names,\n",
    "    lambda params: LF_p2.log_likelihood(\n",
    "        params,\n",
    "        z_values=z_values_16,\n",
    "        y_obs=dm_ext_obs_16,\n",
    "        errors=dm_ext_errors_16\n",
    "    ),\n",
    "    P_p2.prior_transform\n",
    ")\n",
    "\n",
    "sampler_p3_16 = ultranest.ReactiveNestedSampler(\n",
    "    P_p3.param_names,\n",
    "    lambda params: LF_p3.log_likelihood(\n",
    "        params,\n",
    "        z_values=z_values_16,\n",
    "        y_obs=dm_ext_obs_16,\n",
    "        errors=dm_ext_errors_16\n",
    "    ),\n",
    "    P_p3.prior_transform\n",
    ")"
   ]
  },
  {
   "cell_type": "markdown",
   "metadata": {},
   "source": [
    "### Analysis for 50 FRBs"
   ]
  },
  {
   "cell_type": "code",
   "execution_count": 3,
   "metadata": {},
   "outputs": [
    {
     "data": {
      "text/plain": [
       "'# Instantiate the FRB_data class for 50 FRBs\\nfrb_data_50 = FRB_data(n_frb=50)\\n\\n# Call the select_data method to get the observed data\\nz_obs_50, DM_obs_ext_50, error_plus_50, error_minus_50 = frb_data_50.select_data()\\n\\nz_values_50 = z_obs_50\\ndm_ext_obs_50 = DM_obs_ext_50\\ndm_error_plus_50 =  error_plus_50\\ndm_error_minus_50 =  error_minus_50\\n\\n# Configuring the ultranest samplers\\nsampler_constant_50 = ultranest.ReactiveNestedSampler(\\n    P_constant.param_names,\\n    lambda params: LF_constant.log_likelihood(\\n        params,\\n        z_values=z_values_50,\\n        y_obs=dm_ext_obs_50,\\n        err_pos=error_plus_50,\\n        err_neg=error_minus_50\\n    ),\\n    P_constant.prior_transform\\n)\\n\\nsampler_p2_50 = ultranest.ReactiveNestedSampler(\\n    P_p2.param_names,\\n    lambda params: LF_p2.log_likelihood(\\n        params,\\n        z_values=z_values_50,\\n        y_obs=dm_ext_obs_50,\\n        err_pos=error_plus_50,\\n        err_neg=error_minus_50\\n    ),\\n    P_p2.prior_transform\\n)\\n\\nsampler_p3_50 = ultranest.ReactiveNestedSampler(\\n    P_p3.param_names,\\n    lambda params: LF_p3.log_likelihood(\\n        params,\\n        z_values=z_values_50,\\n        y_obs=dm_ext_obs_50,\\n        err_pos=error_plus_50,\\n        err_neg=error_minus_50\\n    ),\\n    P_p3.prior_transform\\n)'"
      ]
     },
     "execution_count": 3,
     "metadata": {},
     "output_type": "execute_result"
    }
   ],
   "source": [
    "\"\"\"# Instantiate the FRB_data class for 50 FRBs\n",
    "frb_data_50 = FRB_data(n_frb=50)\n",
    "\n",
    "# Call the select_data method to get the observed data\n",
    "z_obs_50, DM_obs_ext_50, error_plus_50, error_minus_50 = frb_data_50.select_data()\n",
    "\n",
    "z_values_50 = z_obs_50\n",
    "dm_ext_obs_50 = DM_obs_ext_50\n",
    "dm_error_plus_50 =  error_plus_50\n",
    "dm_error_minus_50 =  error_minus_50\n",
    "\n",
    "# Configuring the ultranest samplers\n",
    "sampler_constant_50 = ultranest.ReactiveNestedSampler(\n",
    "    P_constant.param_names,\n",
    "    lambda params: LF_constant.log_likelihood(\n",
    "        params,\n",
    "        z_values=z_values_50,\n",
    "        y_obs=dm_ext_obs_50,\n",
    "        err_pos=error_plus_50,\n",
    "        err_neg=error_minus_50\n",
    "    ),\n",
    "    P_constant.prior_transform\n",
    ")\n",
    "\n",
    "sampler_p2_50 = ultranest.ReactiveNestedSampler(\n",
    "    P_p2.param_names,\n",
    "    lambda params: LF_p2.log_likelihood(\n",
    "        params,\n",
    "        z_values=z_values_50,\n",
    "        y_obs=dm_ext_obs_50,\n",
    "        err_pos=error_plus_50,\n",
    "        err_neg=error_minus_50\n",
    "    ),\n",
    "    P_p2.prior_transform\n",
    ")\n",
    "\n",
    "sampler_p3_50 = ultranest.ReactiveNestedSampler(\n",
    "    P_p3.param_names,\n",
    "    lambda params: LF_p3.log_likelihood(\n",
    "        params,\n",
    "        z_values=z_values_50,\n",
    "        y_obs=dm_ext_obs_50,\n",
    "        err_pos=error_plus_50,\n",
    "        err_neg=error_minus_50\n",
    "    ),\n",
    "    P_p3.prior_transform\n",
    ")\"\"\""
   ]
  },
  {
   "cell_type": "markdown",
   "metadata": {},
   "source": [
    "### Analysis for 64 FRBs"
   ]
  },
  {
   "cell_type": "code",
   "execution_count": 4,
   "metadata": {},
   "outputs": [],
   "source": [
    "# Instantiate the FRB_data class for 16 FRBs\n",
    "frb_data_64 = FRB_data(n_frb=64)\n",
    "\n",
    "# Call the select_data method to get the observed data\n",
    "z_obs_64, DM_obs_ext_64, DM_obs_ext_error_64 = frb_data_64.select_data()\n",
    "\n",
    "z_values_64 = z_obs_64\n",
    "dm_ext_obs_64 = DM_obs_ext_64\n",
    "dm_ext_errors_64 =  DM_obs_ext_error_64\n",
    "\n",
    "# Configuring the ultranest samplers\n",
    "sampler_constant_64 = ultranest.ReactiveNestedSampler(\n",
    "    P_constant.param_names,\n",
    "    lambda params: LF_constant.log_likelihood(\n",
    "        params,\n",
    "        z_values=z_values_64,\n",
    "        y_obs=dm_ext_obs_64,\n",
    "        errors=dm_ext_errors_64\n",
    "    ),\n",
    "    P_constant.prior_transform\n",
    ")\n",
    "\n",
    "sampler_p2_64 = ultranest.ReactiveNestedSampler(\n",
    "    P_p2.param_names,\n",
    "    lambda params: LF_p2.log_likelihood(\n",
    "        params,\n",
    "        z_values=z_values_64,\n",
    "        y_obs=dm_ext_obs_64,\n",
    "        errors=dm_ext_errors_64\n",
    "    ),\n",
    "    P_p2.prior_transform\n",
    ")\n",
    "\n",
    "sampler_p3_64 = ultranest.ReactiveNestedSampler(\n",
    "    P_p3.param_names,\n",
    "    lambda params: LF_p3.log_likelihood(\n",
    "        params,\n",
    "        z_values=z_values_64,\n",
    "        y_obs=dm_ext_obs_64,\n",
    "        errors=dm_ext_errors_64\n",
    "    ),\n",
    "    P_p3.prior_transform\n",
    ")"
   ]
  },
  {
   "cell_type": "code",
   "execution_count": 5,
   "metadata": {},
   "outputs": [
    {
     "name": "stdout",
     "output_type": "stream",
     "text": [
      "[ultranest] Sampling 400 live points from prior ...\n"
     ]
    },
    {
     "data": {
      "application/vnd.jupyter.widget-view+json": {
       "model_id": "da7ba89c2ceb47258c5d47fe35569f60",
       "version_major": 2,
       "version_minor": 0
      },
      "text/plain": [
       "VBox(children=(HTML(value=''), GridspecLayout(children=(HTML(value=\"<div style='background-color:#6E6BF4;'>&nb…"
      ]
     },
     "metadata": {},
     "output_type": "display_data"
    },
    {
     "name": "stdout",
     "output_type": "stream",
     "text": [
      "[ultranest] Explored until L=-5  9 [-4.6660..-4.6659]*| it/evals=3091/18354 eff=17.2162% N=400  \n",
      "[ultranest] Likelihood function evaluations: 18377\n",
      "[ultranest]   logZ = -7.779 +- 0.05141\n",
      "[ultranest] Effective samples strategy satisfied (ESS = 1707.6, need >400)\n",
      "[ultranest] Posterior uncertainty strategy is satisfied (KL: 0.46+-0.07 nat, need <0.50 nat)\n",
      "[ultranest] Evidency uncertainty strategy is satisfied (dlogz=0.05, need <0.5)\n",
      "[ultranest]   logZ error budget: single: 0.07 bs:0.05 tail:0.01 total:0.05 required:<0.50\n",
      "[ultranest] done iterating.\n",
      "\n",
      "logZ = -7.777 +- 0.126\n",
      "  single instance: logZ = -7.777 +- 0.068\n",
      "  bootstrapped   : logZ = -7.779 +- 0.126\n",
      "  tail           : logZ = +- 0.010\n",
      "insert order U test : converged: True correlation: inf iterations\n",
      "\n",
      "    H_0                 : 0     │▁▂▂▁▂▂▁▂▂▂▂▃▂▄▃▄▄▄▅▅▆▇▇▇▇▆▇▇▆▇▆▄▄▅▃▂▂▁▁│100       58 +- 21\n",
      "    A                   : 0     │▁▁▁▁▁▁▁▂▂▃▄▄▄▄▅▆▇▇▇▇▇▇▇▆▇▅▄▄▂▄▃▂▂▁▁▁▁▁▁│300       155 +- 52\n",
      "    \\beta               : -9.0  │▂▂▂▃▃▂▃▄▄▄▅▅▅▆▅▅▅▆▆▇▇▆▇▇▆▅▇▆▆▇▆▅▃▃▁▁▁ ▁│5.0       -2.0 +- 3.0\n",
      "    \\omega_0            : -3.00 │▃▄▃▃▄▄▃▄▃▃▄▄▄▃▄▃▄▄▅▃▅▄▃▆▄▅▅▅▅▅▅▅▇▆▆▆▇▆▆│-0.00     -1.29 +- 0.86\n",
      "\n"
     ]
    }
   ],
   "source": [
    "result1_16 = sampler_constant_16.run(min_num_live_points=400)\n",
    "sampler_constant_16.print_results()"
   ]
  },
  {
   "cell_type": "code",
   "execution_count": 6,
   "metadata": {},
   "outputs": [
    {
     "data": {
      "text/plain": [
       "'result1_50 = sampler_constant_50.run(min_num_live_points=400)\\nsampler_constant_50.print_results()'"
      ]
     },
     "execution_count": 6,
     "metadata": {},
     "output_type": "execute_result"
    }
   ],
   "source": [
    "\"\"\"result1_50 = sampler_constant_50.run(min_num_live_points=400)\n",
    "sampler_constant_50.print_results()\"\"\""
   ]
  },
  {
   "cell_type": "code",
   "execution_count": 7,
   "metadata": {},
   "outputs": [
    {
     "name": "stdout",
     "output_type": "stream",
     "text": [
      "[ultranest] Sampling 400 live points from prior ...\n"
     ]
    },
    {
     "data": {
      "application/vnd.jupyter.widget-view+json": {
       "model_id": "b9a02d60abdf40a3b76057c1c70c2f09",
       "version_major": 2,
       "version_minor": 0
      },
      "text/plain": [
       "VBox(children=(HTML(value=''), GridspecLayout(children=(HTML(value=\"<div style='background-color:#6E6BF4;'>&nb…"
      ]
     },
     "metadata": {},
     "output_type": "display_data"
    },
    {
     "name": "stdout",
     "output_type": "stream",
     "text": [
      "[ultranest] Explored until L=-8e+01   [-76.4110..-76.4109]*| it/evals=4666/17181 eff=27.8053% N=400  \n",
      "[ultranest] Likelihood function evaluations: 17186\n",
      "[ultranest]   logZ = -83.4 +- 0.06929\n",
      "[ultranest] Effective samples strategy satisfied (ESS = 2292.0, need >400)\n",
      "[ultranest] Posterior uncertainty strategy is satisfied (KL: 0.46+-0.06 nat, need <0.50 nat)\n",
      "[ultranest] Evidency uncertainty strategy is satisfied (dlogz=0.07, need <0.5)\n",
      "[ultranest]   logZ error budget: single: 0.11 bs:0.07 tail:0.01 total:0.07 required:<0.50\n",
      "[ultranest] done iterating.\n",
      "\n",
      "logZ = -83.404 +- 0.122\n",
      "  single instance: logZ = -83.404 +- 0.111\n",
      "  bootstrapped   : logZ = -83.395 +- 0.122\n",
      "  tail           : logZ = +- 0.010\n",
      "insert order U test : converged: True correlation: inf iterations\n",
      "\n",
      "    H_0                 : 4     │ ▁ ▁▁▁▁▁▁▁▁▁▁▁▁▂▂▂▃▃▄▄▄▅▄▅▄▅▆▇▆▇▇▇▇▆▇▇▇│100       76 +- 17\n",
      "    A                   : 72    │ ▁▁▁▁▁▁▁▁▂▂▃▃▅▅▆▆▇▇▇▆▆▆▅▄▄▂▃▁▂▁▁▁▁▁▁▁▁ │202       136 +- 17\n",
      "    \\beta               : -4.7  │ ▁▁ ▁▁▁▁▁▁▁▁▁▂▂▃▂▃▄▅▅▅▇▆▇▇▆▆▇▇▇▆▅▄▂▂▁▁ │3.5       0.6 +- 1.2\n",
      "    \\omega_0            : -3.00 │▁▁▁▁▁▁▁▁▁▁▁▁▁▁▁▁▁▂▁▁▂▂▂▂▂▂▃▃▃▄▅▅▆▅▆▆▇▇▇│-0.00     -0.73 +- 0.67\n",
      "\n"
     ]
    }
   ],
   "source": [
    "result1_64 = sampler_constant_64.run(min_num_live_points=400)\n",
    "sampler_constant_64.print_results()"
   ]
  },
  {
   "cell_type": "code",
   "execution_count": null,
   "metadata": {},
   "outputs": [],
   "source": [
    "result2_16 = sampler_p2_16.run(min_num_live_points=400)\n",
    "sampler_p2_16.print_results()"
   ]
  },
  {
   "cell_type": "code",
   "execution_count": null,
   "metadata": {},
   "outputs": [],
   "source": [
    "\"\"\"result2_50 = sampler_p2_50.run(min_num_live_points=400)\n",
    "sampler_p2_50.print_results()\"\"\""
   ]
  },
  {
   "cell_type": "code",
   "execution_count": null,
   "metadata": {},
   "outputs": [],
   "source": [
    "result2_64 = sampler_p2_64.run(min_num_live_points=400)\n",
    "sampler_p2_64.print_results()"
   ]
  },
  {
   "cell_type": "code",
   "execution_count": null,
   "metadata": {},
   "outputs": [],
   "source": [
    "result3_16 = sampler_p3_16.run(min_num_live_points=400)\n",
    "sampler_p3_16.print_results()"
   ]
  },
  {
   "cell_type": "code",
   "execution_count": null,
   "metadata": {},
   "outputs": [],
   "source": [
    "\"\"\"result3_50 = sampler_p3_50.run(min_num_live_points=400)\n",
    "sampler_p3_50.print_results()\"\"\""
   ]
  },
  {
   "cell_type": "code",
   "execution_count": null,
   "metadata": {},
   "outputs": [],
   "source": [
    "result3_64 = sampler_p3_64.run(min_num_live_points=400)\n",
    "sampler_p3_64.print_results()"
   ]
  },
  {
   "cell_type": "code",
   "execution_count": 8,
   "metadata": {},
   "outputs": [
    {
     "name": "stdout",
     "output_type": "stream",
     "text": [
      "Removed no burn in\n",
      "Removed no burn in\n"
     ]
    },
    {
     "data": {
      "text/plain": [
       "'mcsamples2_16 = MCSamples(samples=samples2_16, names=names2, labels=labels2)\\n#mcsamples2_50 = MCSamples(samples=samples2_50, names=names2, labels=labels2)\\nmcsamples2_64 = MCSamples(samples=samples2_64, names=names2, labels=labels2)\\n\\nmcsamples3_16 = MCSamples(samples=samples3_16, names=names2, labels=labels2)\\n#mcsamples3_50 = MCSamples(samples=samples3_50, names=names2, labels=labels2)\\nmcsamples3_64 = MCSamples(samples=samples3_64, names=names2, labels=labels2)'"
      ]
     },
     "execution_count": 8,
     "metadata": {},
     "output_type": "execute_result"
    }
   ],
   "source": [
    "from getdist import plots, MCSamples\n",
    "\n",
    "# Extraindo amostras dos resultados\n",
    "samples1_16 = result1_16['samples']\n",
    "#samples2_16 = result2_16['samples']\n",
    "#samples3_16 = result3_16['samples']\n",
    "\n",
    "\"\"\"samples1_50 = result1_50['samples']\n",
    "samples2_50 = result2_50['samples']\n",
    "samples3_50 = result3_50['samples']\"\"\"\n",
    "\n",
    "samples1_64 = result1_64['samples']\n",
    "#samples2_64 = result2_64['samples']\n",
    "#samples3_64 = result3_64['samples']\n",
    "\n",
    "# Criando objetos MCSamples com os dados\n",
    "labels1 = P_constant.param_names\n",
    "names1 = P_constant.param_names\n",
    "mcsamples1_16 = MCSamples(samples=samples1_16, names=names1, labels=labels1)\n",
    "#mcsamples1_50 = MCSamples(samples=samples1_50, names=names1, labels=labels1)\n",
    "mcsamples1_64 = MCSamples(samples=samples1_64, names=names1, labels=labels1)\n",
    "\n",
    "labels2 = P_p2.param_names\n",
    "names2 = P_p2.param_names\n",
    "\"\"\"mcsamples2_16 = MCSamples(samples=samples2_16, names=names2, labels=labels2)\n",
    "#mcsamples2_50 = MCSamples(samples=samples2_50, names=names2, labels=labels2)\n",
    "mcsamples2_64 = MCSamples(samples=samples2_64, names=names2, labels=labels2)\n",
    "\n",
    "mcsamples3_16 = MCSamples(samples=samples3_16, names=names2, labels=labels2)\n",
    "#mcsamples3_50 = MCSamples(samples=samples3_50, names=names2, labels=labels2)\n",
    "mcsamples3_64 = MCSamples(samples=samples3_64, names=names2, labels=labels2)\"\"\""
   ]
  },
  {
   "cell_type": "code",
   "execution_count": 9,
   "metadata": {},
   "outputs": [
    {
     "data": {
      "image/png": "[encoded data removed]",
      "text/plain": [
       "<Figure size 800x800 with 10 Axes>"
      ]
     },
     "metadata": {},
     "output_type": "display_data"
    }
   ],
   "source": [
    "# Plotando os Triangle plots\n",
    "g = plots.get_subplot_plotter()\n",
    "mcsamples1_16.updateSettings({'smooth_scale_2D': 0.9, 'smooth_scale_1D': 0.9})\n",
    "mcsamples1_64.updateSettings({'smooth_scale_2D': 0.9, 'smooth_scale_1D': 0.9})\n",
    "g.settings.num_plot_contours = 2\n",
    "g.triangle_plot([mcsamples1_16, mcsamples1_64], filled=True, contour_colors=['blue', 'red'], \n",
    "                legend_labels=['16 FRBs', '64 FRBs'], \n",
    "                title_limit=1)\n",
    "\"\"\"g.triangle_plot([mcsamples1_50], filled=True, contour_colors=['red'], \n",
    "                legend_labels=['P. 1 with 50 FRBs'], \n",
    "                title_limit=1)\"\"\"\n",
    "g.export('Figuras/param_constant.png', dpi=600)"
   ]
  },
  {
   "cell_type": "code",
   "execution_count": null,
   "metadata": {},
   "outputs": [],
   "source": [
    "# Plotando os Triangle plots\n",
    "g = plots.get_subplot_plotter()\n",
    "mcsamples2_16.updateSettings({'smooth_scale_2D': 0.9, 'smooth_scale_1D': 0.9})\n",
    "mcsamples2_64.updateSettings({'smooth_scale_2D': 0.9, 'smooth_scale_1D': 0.9})\n",
    "g.settings.num_plot_contours = 2\n",
    "g.triangle_plot([mcsamples2_16, mcsamples2_64], filled=True, contour_colors=['blue', 'red'], \n",
    "                legend_labels=['CPL with 16 FRBs', 'CPL with 50 FRBs'], \n",
    "                title_limit=1)\n",
    "g.export('Figuras/param_CPL.png', dpi=600)"
   ]
  },
  {
   "cell_type": "code",
   "execution_count": null,
   "metadata": {},
   "outputs": [],
   "source": [
    "# Plotando os Triangle plots\n",
    "g = plots.get_subplot_plotter()\n",
    "mcsamples3_16.updateSettings({'smooth_scale_2D': 0.9, 'smooth_scale_1D': 0.9})\n",
    "mcsamples3_64.updateSettings({'smooth_scale_2D': 0.9, 'smooth_scale_1D': 0.9})\n",
    "g.settings.num_plot_contours = 2\n",
    "g.triangle_plot([mcsamples3_16, mcsamples3_64], filled=True, contour_colors=['blue', 'red'], \n",
    "                legend_labels=['BA with 16 FRBs', 'BA with 50 FRBs'], \n",
    "                title_limit=1)\n",
    "g.export('Figuras/param_BA.png', dpi=600)"
   ]
  },
  {
   "cell_type": "code",
   "execution_count": null,
   "metadata": {},
   "outputs": [],
   "source": [
    "from ultranest.plot import PredictionBand\n",
    "from equations import DM_EXT_model\n",
    "import matplotlib.pyplot as plt\n",
    "import numpy as np\n",
    "\n",
    "plt.figure()\n",
    "plt.xlabel('$z$')\n",
    "plt.ylabel('$H(z)$')\n",
    "plt.errorbar(x=z_values_16, y=dm_ext_obs_16, fmt='ro', alpha=0.6, capsize=3, color='red', label='Data', ms=4)\n",
    "\n",
    "z_test = np.linspace(0, 1, 100)\n",
    "\n",
    "band = PredictionBand(z_test)\n",
    "model_fit = DM_EXT_model()\n",
    "# go through the solutions\n",
    "for H_0, omega_0  in sampler_constant_16.results['samples']:\n",
    "    # compute for each time the y value\n",
    "    band.add(model_fit.DM_ext_th(z=z_test,\n",
    "        f_IGM=0.83,\n",
    "        DM_host_0=157,\n",
    "        model_type='constant',\n",
    "        Omega_b=None,  \n",
    "        Omega_m=None,     \n",
    "        H_today=H_0,\n",
    "        omega_0=omega_0,\n",
    "        cosmo_type='non_standard',\n",
    "        param_type='constant'))\n",
    "\n",
    "band.line(color='k', linestyle='-', label='Parameterization 3', linewidth=1.5)\n",
    "# add 1 sigma quantile\n",
    "band.shade(color='green', alpha=0.3)\n",
    "# add wider quantile (0.01 .. 0.99)\n",
    "band.shade(q=0.49, color='green', alpha=0.2)\n",
    "\n",
    "plt.legend()\n",
    "plt.savefig('Figuras/H_bestfit.png', format='png', dpi=600)"
   ]
  },
  {
   "cell_type": "code",
   "execution_count": null,
   "metadata": {},
   "outputs": [],
   "source": [
    "plt.figure()\n",
    "plt.xlabel('$z$')\n",
    "plt.ylabel('$H(z)$')\n",
    "plt.errorbar(x=z_values_50, y=dm_ext_obs_50, fmt='ro', alpha=0.6, color='red', label='Data', ms=4)\n",
    "\n",
    "# go through the solutions\n",
    "for H_0, omega_0  in sampler_constant_50.results['samples']:\n",
    "    # compute for each time the y value\n",
    "    band.add(model_fit.DM_ext_th(z=z_test,\n",
    "        f_IGM=0.83,\n",
    "        DM_host_0=157,\n",
    "        model_type='constant',\n",
    "        Omega_b=None,  \n",
    "        Omega_m=None,     \n",
    "        H_today=H_0,\n",
    "        omega_0=omega_0,\n",
    "        cosmo_type='non_standard',\n",
    "        param_type='constant'))\n",
    "\n",
    "band.line(color='k', linestyle='-', label='Parameterization 3', linewidth=1.5)\n",
    "# add 1 sigma quantile\n",
    "band.shade(color='green', alpha=0.3)\n",
    "# add wider quantile (0.01 .. 0.99)\n",
    "band.shade(q=0.49, color='green', alpha=0.2)\n",
    "\n",
    "plt.legend()\n",
    "plt.savefig('Figuras/H_bestfit_50.png', format='png', dpi=600)"
   ]
  }
 ],
 "metadata": {
  "kernelspec": {
   "display_name": "Python 3 (ipykernel)",
   "language": "python",
   "name": "python3"
  },
  "language_info": {
   "codemirror_mode": {
    "name": "ipython",
    "version": 3
   },
   "file_extension": ".py",
   "mimetype": "text/x-python",
   "name": "python",
   "nbconvert_exporter": "python",
   "pygments_lexer": "ipython3",
   "version": "3.12.6"
  }
 },
 "nbformat": 4,
 "nbformat_minor": 4
}
