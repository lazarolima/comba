{
 "cells": [
  {
   "cell_type": "markdown",
   "metadata": {},
   "source": [
    "# Bayesian analyses and MCMC"
   ]
  },
  {
   "cell_type": "markdown",
   "metadata": {},
   "source": [
    "## Defining priors"
   ]
  },
  {
   "cell_type": "code",
   "execution_count": 1,
   "metadata": {},
   "outputs": [
    {
     "name": "stderr",
     "output_type": "stream",
     "text": [
      "<>:16: SyntaxWarning: invalid escape sequence '\\o'\n",
      "<>:16: SyntaxWarning: invalid escape sequence '\\o'\n",
      "<>:16: SyntaxWarning: invalid escape sequence '\\o'\n",
      "<>:16: SyntaxWarning: invalid escape sequence '\\o'\n",
      "/tmp/ipykernel_19324/2762663095.py:16: SyntaxWarning: invalid escape sequence '\\o'\n",
      "  P_p2 = Priors(['H_0', '\\omega_0', '\\omega_a'], intervals_p2)\n",
      "/tmp/ipykernel_19324/2762663095.py:16: SyntaxWarning: invalid escape sequence '\\o'\n",
      "  P_p2 = Priors(['H_0', '\\omega_0', '\\omega_a'], intervals_p2)\n"
     ]
    },
    {
     "data": {
      "text/plain": [
       "\"LF_p3 = LikelihoodFunction(\\n    lambda z, f_IGM, DM_host_0, alpha: model.DM_ext_th(\\n        z=z,\\n        f_IGM=f_IGM,\\n        DM_host_0=DM_host_0,\\n        model_type='p3',\\n        Omega_b=0.0408,  \\n        Omega_m=0.3,    \\n        H_today=70.0,    \\n        param=alpha\\n    )\\n)\""
      ]
     },
     "execution_count": 1,
     "metadata": {},
     "output_type": "execute_result"
    }
   ],
   "source": [
    "from likelihood import Priors, LikelihoodFunction\n",
    "from equations import DM_EXT_model\n",
    "\n",
    "model = DM_EXT_model()\n",
    "\n",
    "# Defining the prior intervals manually\n",
    "#intervals_constant = [(0, 1), (20, 100)]  # Omega_m, H_0, omega_0\n",
    "intervals_constant = [(20, 100), (-3, 0)]  # H_0, omega_0\n",
    "intervals_p2 = [(20, 100), (-3, 0), (-3, 3)]  # H_0, omega_0, omega_a\n",
    "\"\"\"intervals_p3 = [(0, 1), (20, 100), (-3, 0), (-3, 3)]  # Omega_m, H_0, omega_0, omega_a\n",
    "\"\"\"\n",
    "\n",
    "# Creating specific instances of the priors\n",
    "#P_constant = Priors(['\\\\Omega_m', 'H_0', '\\\\omega_0'], intervals_constant)\n",
    "P_constant = Priors(['H_0', '\\\\omega_0'], intervals_constant)\n",
    "P_p2 = Priors(['H_0', '\\omega_0', '\\omega_a'], intervals_p2)\n",
    "#P_p3 = Priors(['\\Omega_m', 'H_0',  '\\omega_0', '\\omega_a'], intervals_p3)\n",
    "\n",
    "# Creating an instance of the likelihood model\n",
    "LF_constant = LikelihoodFunction(\n",
    "    lambda z, H_0, omega_0: model.DM_ext_th(\n",
    "        z=z,\n",
    "        f_IGM=0.83,\n",
    "        DM_host_0=157,\n",
    "        model_type='constant',\n",
    "        Omega_b=None,  \n",
    "        Omega_m=None,     \n",
    "        H_today=H_0,\n",
    "        omega_0=omega_0,\n",
    "        cosmo_type='non_standard',\n",
    "        param_type='constant'\n",
    "    )\n",
    ")\n",
    "\n",
    "LF_p2 = LikelihoodFunction(\n",
    "    lambda z, omega_0, omega_a, H_0: model.DM_ext_th(\n",
    "        z=z,\n",
    "        f_IGM=0.83,\n",
    "        DM_host_0=157,\n",
    "        model_type='constant',\n",
    "        Omega_b=None,  \n",
    "        Omega_m=None,     \n",
    "        H_today=H_0,\n",
    "        omega_0=omega_0,  \n",
    "        omega_a=omega_a,\n",
    "        cosmo_type='non_standard',\n",
    "        param_type='constant'\n",
    "    )\n",
    ")\n",
    "\n",
    "\"\"\"LF_p3 = LikelihoodFunction(\n",
    "    lambda z, f_IGM, DM_host_0, alpha: model.DM_ext_th(\n",
    "        z=z,\n",
    "        f_IGM=f_IGM,\n",
    "        DM_host_0=DM_host_0,\n",
    "        model_type='p3',\n",
    "        Omega_b=0.0408,  \n",
    "        Omega_m=0.3,    \n",
    "        H_today=70.0,    \n",
    "        param=alpha\n",
    "    )\n",
    ")\"\"\""
   ]
  },
  {
   "cell_type": "markdown",
   "metadata": {},
   "source": [
    "## Preparing the samples"
   ]
  },
  {
   "cell_type": "markdown",
   "metadata": {},
   "source": [
    "### Analysis for 16 FRBs"
   ]
  },
  {
   "cell_type": "code",
   "execution_count": 2,
   "metadata": {},
   "outputs": [
    {
     "data": {
      "text/plain": [
       "'sampler_p3_16 = ultranest.ReactiveNestedSampler(\\n    P_p3.param_names,\\n    lambda params: LF_p3.log_likelihood(\\n        params,\\n        z_values=z_values_16,\\n        y_obs=dm_ext_obs_16,\\n        errors=dm_ext_errors_16\\n    ),\\n    P_p3.prior_transform\\n)'"
      ]
     },
     "execution_count": 2,
     "metadata": {},
     "output_type": "execute_result"
    }
   ],
   "source": [
    "from obs_data import FRB_data\n",
    "import ultranest\n",
    "\n",
    "# Instantiate the FRB_data class for 16 FRBs\n",
    "frb_data_16 = FRB_data(n_frb=16)\n",
    "\n",
    "# Call the select_data method to get the observed data\n",
    "z_obs_16, DM_obs_ext_16, DM_obs_ext_error_16 = frb_data_16.select_data()\n",
    "\n",
    "z_values_16 = z_obs_16\n",
    "dm_ext_obs_16 = DM_obs_ext_16\n",
    "dm_ext_errors_16 =  DM_obs_ext_error_16\n",
    "\n",
    "# Configuring the ultranest samplers\n",
    "sampler_constant_16 = ultranest.ReactiveNestedSampler(\n",
    "    P_constant.param_names,\n",
    "    lambda params: LF_constant.log_likelihood(\n",
    "        params,\n",
    "        z_values=z_values_16,\n",
    "        y_obs=dm_ext_obs_16,\n",
    "        errors=dm_ext_errors_16\n",
    "    ),\n",
    "    P_constant.prior_transform\n",
    ")\n",
    "\n",
    "sampler_p2_16 = ultranest.ReactiveNestedSampler(\n",
    "    P_p2.param_names,\n",
    "    lambda params: LF_p2.log_likelihood(\n",
    "        params,\n",
    "        z_values=z_values_16,\n",
    "        y_obs=dm_ext_obs_16,\n",
    "        errors=dm_ext_errors_16\n",
    "    ),\n",
    "    P_p2.prior_transform\n",
    ")\n",
    "\n",
    "\"\"\"sampler_p3_16 = ultranest.ReactiveNestedSampler(\n",
    "    P_p3.param_names,\n",
    "    lambda params: LF_p3.log_likelihood(\n",
    "        params,\n",
    "        z_values=z_values_16,\n",
    "        y_obs=dm_ext_obs_16,\n",
    "        errors=dm_ext_errors_16\n",
    "    ),\n",
    "    P_p3.prior_transform\n",
    ")\"\"\""
   ]
  },
  {
   "cell_type": "markdown",
   "metadata": {},
   "source": [
    "### Analysis for 50 FRBs"
   ]
  },
  {
   "cell_type": "code",
   "execution_count": 3,
   "metadata": {},
   "outputs": [
    {
     "data": {
      "text/plain": [
       "'sampler_p3_50 = ultranest.ReactiveNestedSampler(\\n    P_p3.param_names,\\n    lambda params: LF_p3.log_likelihood(\\n        params,\\n        z_values=z_values_50,\\n        y_obs=dm_ext_obs_50,\\n        err_pos=error_plus_50,\\n        err_neg=error_minus_50\\n    ),\\n    P_p3.prior_transform\\n)'"
      ]
     },
     "execution_count": 3,
     "metadata": {},
     "output_type": "execute_result"
    }
   ],
   "source": [
    "# Instantiate the FRB_data class for 50 FRBs\n",
    "frb_data_50 = FRB_data(n_frb=50)\n",
    "\n",
    "# Call the select_data method to get the observed data\n",
    "z_obs_50, DM_obs_ext_50, error_plus_50, error_minus_50 = frb_data_50.select_data()\n",
    "\n",
    "z_values_50 = z_obs_50\n",
    "dm_ext_obs_50 = DM_obs_ext_50\n",
    "dm_error_plus_50 =  error_plus_50\n",
    "dm_error_minus_50 =  error_minus_50\n",
    "\n",
    "# Configuring the ultranest samplers\n",
    "sampler_constant_50 = ultranest.ReactiveNestedSampler(\n",
    "    P_constant.param_names,\n",
    "    lambda params: LF_constant.log_likelihood(\n",
    "        params,\n",
    "        z_values=z_values_50,\n",
    "        y_obs=dm_ext_obs_50,\n",
    "        err_pos=error_plus_50,\n",
    "        err_neg=error_minus_50\n",
    "    ),\n",
    "    P_constant.prior_transform\n",
    ")\n",
    "\n",
    "sampler_p2_50 = ultranest.ReactiveNestedSampler(\n",
    "    P_p2.param_names,\n",
    "    lambda params: LF_p2.log_likelihood(\n",
    "        params,\n",
    "        z_values=z_values_50,\n",
    "        y_obs=dm_ext_obs_50,\n",
    "        err_pos=error_plus_50,\n",
    "        err_neg=error_minus_50\n",
    "    ),\n",
    "    P_p2.prior_transform\n",
    ")\n",
    "\n",
    "\"\"\"sampler_p3_50 = ultranest.ReactiveNestedSampler(\n",
    "    P_p3.param_names,\n",
    "    lambda params: LF_p3.log_likelihood(\n",
    "        params,\n",
    "        z_values=z_values_50,\n",
    "        y_obs=dm_ext_obs_50,\n",
    "        err_pos=error_plus_50,\n",
    "        err_neg=error_minus_50\n",
    "    ),\n",
    "    P_p3.prior_transform\n",
    ")\"\"\""
   ]
  },
  {
   "cell_type": "code",
   "execution_count": 4,
   "metadata": {},
   "outputs": [
    {
     "name": "stdout",
     "output_type": "stream",
     "text": [
      "[ultranest] Sampling 400 live points from prior ...\n"
     ]
    },
    {
     "data": {
      "application/vnd.jupyter.widget-view+json": {
       "model_id": "ac569a7080a74015826ce45aad44e0af",
       "version_major": 2,
       "version_minor": 0
      },
      "text/plain": [
       "VBox(children=(HTML(value=''), GridspecLayout(children=(HTML(value=\"<div style='background-color:#6E6BF4;'>&nb…"
      ]
     },
     "metadata": {},
     "output_type": "display_data"
    },
    {
     "name": "stdout",
     "output_type": "stream",
     "text": [
      "[ultranest] Explored until L=-6e+02  .24 [-553.2525..-553.2525]*| it/evals=4000/5789 eff=74.2253% N=400  \n",
      "[ultranest] Likelihood function evaluations: 5793\n",
      "[ultranest]   logZ = -558.7 +- 0.08634\n",
      "[ultranest] Effective samples strategy satisfied (ESS = 1580.5, need >400)\n",
      "[ultranest] Posterior uncertainty strategy is satisfied (KL: 0.46+-0.07 nat, need <0.50 nat)\n",
      "[ultranest] Evidency uncertainty strategy is satisfied (dlogz=0.09, need <0.5)\n",
      "[ultranest]   logZ error budget: single: 0.11 bs:0.09 tail:0.01 total:0.09 required:<0.50\n",
      "[ultranest] done iterating.\n",
      "\n",
      "logZ = -558.650 +- 0.151\n",
      "  single instance: logZ = -558.650 +- 0.105\n",
      "  bootstrapped   : logZ = -558.657 +- 0.150\n",
      "  tail           : logZ = +- 0.010\n",
      "insert order U test : converged: True correlation: inf iterations\n",
      "\n",
      "    H_0                 : 57.7  │ ▁  ▁▁▁▁▁▁▁▂▂▃▃▄▅▅▇▇▇▇▇▇▇▆▅▄▃▂▁▁▁▁▁▁▁▁ │76.2      67.8 +- 2.3\n",
      "    \\omega_0            : -2.40 │ ▁  ▁  ▁▁▁▁▁▁▁▁▁▂▃▂▃▄▆▆▇▇▇▇▇▆▅▃▂▂▁▁▁ ▁ │-0.38     -1.14 +- 0.23\n",
      "\n"
     ]
    }
   ],
   "source": [
    "result1_16 = sampler_constant_16.run(min_num_live_points=400)\n",
    "sampler_constant_16.print_results()"
   ]
  },
  {
   "cell_type": "code",
   "execution_count": 5,
   "metadata": {},
   "outputs": [
    {
     "name": "stdout",
     "output_type": "stream",
     "text": [
      "[ultranest] Sampling 400 live points from prior ...\n"
     ]
    },
    {
     "data": {
      "application/vnd.jupyter.widget-view+json": {
       "model_id": "2a93c87289ee40799e1d04367343c376",
       "version_major": 2,
       "version_minor": 0
      },
      "text/plain": [
       "VBox(children=(HTML(value=''), GridspecLayout(children=(HTML(value=\"<div style='background-color:#6E6BF4;'>&nb…"
      ]
     },
     "metadata": {},
     "output_type": "display_data"
    },
    {
     "name": "stdout",
     "output_type": "stream",
     "text": [
      "[ultranest] Explored until L=-6e+03  345.37 [-6345.3816..-6345.3816]*| it/evals=4741/6765 eff=74.4855% N=400 \n",
      "[ultranest] Likelihood function evaluations: 6781\n",
      "[ultranest]   logZ = -6353 +- 0.08368\n",
      "[ultranest] Effective samples strategy satisfied (ESS = 1613.0, need >400)\n",
      "[ultranest] Posterior uncertainty strategy is satisfied (KL: 0.46+-0.08 nat, need <0.50 nat)\n",
      "[ultranest] Evidency uncertainty strategy is satisfied (dlogz=0.08, need <0.5)\n",
      "[ultranest]   logZ error budget: single: 0.13 bs:0.08 tail:0.01 total:0.08 required:<0.50\n",
      "[ultranest] done iterating.\n",
      "\n",
      "logZ = -6352.651 +- 0.167\n",
      "  single instance: logZ = -6352.651 +- 0.125\n",
      "  bootstrapped   : logZ = -6352.639 +- 0.166\n",
      "  tail           : logZ = +- 0.010\n",
      "insert order U test : converged: True correlation: inf iterations\n",
      "\n",
      "    H_0                 : 74.10 │ ▁  ▁▁▁▁▁▂▃▃▃▅▅▇▇▇▇▆▅▄▄▃▂▁▁▁▁▁▁      ▁ │82.21     77.71 +- 0.85\n",
      "    \\omega_0            : -1.765│ ▁▁▁▁▁▁▁▁▂▂▃▄▄▅▆▆▇▇▇▇▇▇▆▄▄▃▃▂▂▁▁▁▁▁▁▁▁ │-1.179    -1.476 +- 0.076\n",
      "\n"
     ]
    }
   ],
   "source": [
    "result1_50 = sampler_constant_50.run(min_num_live_points=400)\n",
    "sampler_constant_50.print_results()"
   ]
  },
  {
   "cell_type": "code",
   "execution_count": 6,
   "metadata": {},
   "outputs": [
    {
     "name": "stdout",
     "output_type": "stream",
     "text": [
      "[ultranest] Sampling 400 live points from prior ...\n"
     ]
    },
    {
     "data": {
      "application/vnd.jupyter.widget-view+json": {
       "model_id": "0c6b9ca3e0a840889d5fb41ec7834ca2",
       "version_major": 2,
       "version_minor": 0
      },
      "text/plain": [
       "VBox(children=(HTML(value=''), GridspecLayout(children=(HTML(value=\"<div style='background-color:#6E6BF4;'>&nb…"
      ]
     },
     "metadata": {},
     "output_type": "display_data"
    },
    {
     "name": "stdout",
     "output_type": "stream",
     "text": [
      "[ultranest] Explored until L=-5e+03  303.66 [-5303.8003..-5303.8000]*| it/evals=5461/8333 eff=68.8390% N=400 \n",
      "[ultranest] Likelihood function evaluations: 8341\n",
      "[ultranest]   logZ = -5313 +- 0.09571\n",
      "[ultranest] Effective samples strategy satisfied (ESS = 2169.8, need >400)\n",
      "[ultranest] Posterior uncertainty strategy is satisfied (KL: 0.45+-0.07 nat, need <0.50 nat)\n",
      "[ultranest] Evidency uncertainty strategy is satisfied (dlogz=0.10, need <0.5)\n",
      "[ultranest]   logZ error budget: single: 0.13 bs:0.10 tail:0.01 total:0.10 required:<0.50\n",
      "[ultranest] done iterating.\n",
      "\n",
      "logZ = -5312.819 +- 0.181\n",
      "  single instance: logZ = -5312.819 +- 0.133\n",
      "  bootstrapped   : logZ = -5312.813 +- 0.181\n",
      "  tail           : logZ = +- 0.010\n",
      "insert order U test : converged: True correlation: inf iterations\n",
      "\n",
      "    H_0                 : 20.00 │▇▅▄▃▂▂▁▁▁▁▁▁▁▁▁▁▁▁▁▁▁▁▁▁▁▁▁ ▁▁    ▁▁ ▁ │27.45     20.60 +- 0.65\n",
      "    \\omega_0            : -3.00 │▆▅▆▆▅▇▆▅▅▆▅▅▆▅▇▅▆▇▅▆▆▆▆▅▅▅▇▆▇▆▅▅▅▇▆▅▆▆▅│-0.00     -1.49 +- 0.86\n",
      "    \\omega_a            : 2.192 │ ▁     ▁  ▁▁▁ ▁▁▁▁▁▁▁▁▁▁▁▁▁▁▁▁▁▁▂▂▃▄▅▆▇│3.000     2.921 +- 0.080\n",
      "\n"
     ]
    }
   ],
   "source": [
    "result2_16 = sampler_p2_16.run(min_num_live_points=400)\n",
    "sampler_p2_16.print_results()"
   ]
  },
  {
   "cell_type": "code",
   "execution_count": 7,
   "metadata": {},
   "outputs": [
    {
     "name": "stdout",
     "output_type": "stream",
     "text": [
      "[ultranest] Sampling 400 live points from prior ...\n"
     ]
    },
    {
     "data": {
      "application/vnd.jupyter.widget-view+json": {
       "model_id": "f2fba1d45cfd4f8481622a7379ed3e8e",
       "version_major": 2,
       "version_minor": 0
      },
      "text/plain": [
       "VBox(children=(HTML(value=''), GridspecLayout(children=(HTML(value=\"<div style='background-color:#6E6BF4;'>&nb…"
      ]
     },
     "metadata": {},
     "output_type": "display_data"
    },
    {
     "name": "stdout",
     "output_type": "stream",
     "text": [
      "[ultranest] Explored until L=-2e+04  -24351.93 [-24352.0738..-24352.0735]*| it/evals=6360/9795 eff=67.6956% N=400 \n",
      "[ultranest] Likelihood function evaluations: 9806\n",
      "[ultranest]   logZ = -2.436e+04 +- 0.09008\n",
      "[ultranest] Effective samples strategy satisfied (ESS = 2169.2, need >400)\n",
      "[ultranest] Posterior uncertainty strategy is satisfied (KL: 0.46+-0.09 nat, need <0.50 nat)\n",
      "[ultranest] Evidency uncertainty strategy is satisfied (dlogz=0.09, need <0.5)\n",
      "[ultranest]   logZ error budget: single: 0.15 bs:0.09 tail:0.01 total:0.09 required:<0.50\n",
      "[ultranest] done iterating.\n",
      "\n",
      "logZ = -24363.336 +- 0.230\n",
      "  single instance: logZ = -24363.336 +- 0.153\n",
      "  bootstrapped   : logZ = -24363.361 +- 0.230\n",
      "  tail           : logZ = +- 0.010\n",
      "insert order U test : converged: True correlation: inf iterations\n",
      "\n",
      "    H_0                 : 20.00 │▇▆▄▃▃▂▁▁▁▁▁▁▁▁▁▁▁▁▁▁▁▁  ▁            ▁ │22.72     20.21 +- 0.21\n",
      "    \\omega_0            : -3.00 │▅▅▆▅▅▅▅▆▄▆▆▄▅▅▆▅▆▆▅▅▅▅▆▆▅▅▄▆▆▅▇▇▅▅▆▆▅▄▆│-0.00     -1.49 +- 0.86\n",
      "    \\omega_a            : 2.713 │ ▁ ▁   ▁▁▁▁▁▁▁▁▁▁▁▁▁▁▁▁▁▁▁▁▁▁▂▂▂▂▃▃▄▅▇▇│3.000     2.968 +- 0.031\n",
      "\n"
     ]
    }
   ],
   "source": [
    "result2_50 = sampler_p2_50.run(min_num_live_points=400)\n",
    "sampler_p2_50.print_results()"
   ]
  },
  {
   "cell_type": "code",
   "execution_count": null,
   "metadata": {},
   "outputs": [],
   "source": [
    "result3_16 = sampler_p3_16.run(min_num_live_points=400)\n",
    "sampler_p3_16.print_results()"
   ]
  },
  {
   "cell_type": "code",
   "execution_count": null,
   "metadata": {},
   "outputs": [],
   "source": [
    "result3_50 = sampler_p3_50.run(min_num_live_points=400)\n",
    "sampler_p3_50.print_results()"
   ]
  },
  {
   "cell_type": "code",
   "execution_count": 9,
   "metadata": {},
   "outputs": [
    {
     "name": "stdout",
     "output_type": "stream",
     "text": [
      "Removed no burn in\n",
      "Removed no burn in\n",
      "Removed no burn in\n",
      "Removed no burn in\n"
     ]
    },
    {
     "data": {
      "text/plain": [
       "'mcsamples3_16 = MCSamples(samples=samples3_16, names=names2, labels=labels2)\\nmcsamples3_50 = MCSamples(samples=samples3_50, names=names2, labels=labels2)'"
      ]
     },
     "execution_count": 9,
     "metadata": {},
     "output_type": "execute_result"
    }
   ],
   "source": [
    "from getdist import plots, MCSamples\n",
    "\n",
    "# Extraindo amostras dos resultados\n",
    "samples1_16 = result1_16['samples']\n",
    "samples2_16 = result2_16['samples']\n",
    "#samples3_16 = result3_16['samples']\n",
    "\n",
    "samples1_50 = result1_50['samples']\n",
    "samples2_50 = result2_50['samples']\n",
    "#samples3_50 = result3_50['samples']\n",
    "\n",
    "# Criando objetos MCSamples com os dados\n",
    "labels1 = P_constant.param_names\n",
    "names1 = P_constant.param_names\n",
    "mcsamples1_16 = MCSamples(samples=samples1_16, names=names1, labels=labels1)\n",
    "mcsamples1_50 = MCSamples(samples=samples1_50, names=names1, labels=labels1)\n",
    "\n",
    "labels2 = P_p2.param_names\n",
    "names2 = P_p2.param_names\n",
    "mcsamples2_16 = MCSamples(samples=samples2_16, names=names2, labels=labels2)\n",
    "mcsamples2_50 = MCSamples(samples=samples2_50, names=names2, labels=labels2)\n",
    "\n",
    "\"\"\"mcsamples3_16 = MCSamples(samples=samples3_16, names=names2, labels=labels2)\n",
    "mcsamples3_50 = MCSamples(samples=samples3_50, names=names2, labels=labels2)\"\"\""
   ]
  },
  {
   "cell_type": "code",
   "execution_count": 10,
   "metadata": {},
   "outputs": [
    {
     "data": {
      "image/png": "[encoded data removed]",
      "text/plain": [
       "<Figure size 400x400 with 3 Axes>"
      ]
     },
     "metadata": {},
     "output_type": "display_data"
    }
   ],
   "source": [
    "# Plotando os Triangle plots\n",
    "g = plots.get_subplot_plotter()\n",
    "mcsamples1_16.updateSettings({'smooth_scale_2D': 0.9, 'smooth_scale_1D': 0.9})\n",
    "mcsamples1_50.updateSettings({'smooth_scale_2D': 0.9, 'smooth_scale_1D': 0.9})\n",
    "g.settings.num_plot_contours = 2\n",
    "g.triangle_plot([mcsamples1_16, mcsamples1_50], filled=True, contour_colors=['blue', 'red'], \n",
    "                legend_labels=['P. 1 with 16 FRBs', 'P. 1 with 50 FRBs'], \n",
    "                title_limit=1)\n",
    "\"\"\"g.triangle_plot([mcsamples1_50], filled=True, contour_colors=['red'], \n",
    "                legend_labels=['P. 1 with 50 FRBs'], \n",
    "                title_limit=1)\"\"\"\n",
    "g.export('Figuras/H_p1.png', dpi=600)"
   ]
  },
  {
   "cell_type": "code",
   "execution_count": 11,
   "metadata": {},
   "outputs": [
    {
     "data": {
      "image/png": "[encoded data removed]",
      "text/plain": [
       "<Figure size 600x600 with 6 Axes>"
      ]
     },
     "metadata": {},
     "output_type": "display_data"
    }
   ],
   "source": [
    "# Plotando os Triangle plots\n",
    "g = plots.get_subplot_plotter()\n",
    "mcsamples2_16.updateSettings({'smooth_scale_2D': 0.9, 'smooth_scale_1D': 0.9})\n",
    "mcsamples2_50.updateSettings({'smooth_scale_2D': 0.9, 'smooth_scale_1D': 0.9})\n",
    "g.settings.num_plot_contours = 2\n",
    "g.triangle_plot([mcsamples2_16, mcsamples2_50], filled=True, contour_colors=['blue', 'red'], \n",
    "                legend_labels=['P. 2 with 16 FRBs', 'P. 2 with 50 FRBs'], \n",
    "                title_limit=1)\n",
    "g.export('Figuras/H_p2.png', dpi=600)"
   ]
  },
  {
   "cell_type": "code",
   "execution_count": null,
   "metadata": {},
   "outputs": [],
   "source": [
    "# Plotando os Triangle plots\n",
    "g = plots.get_subplot_plotter()\n",
    "mcsamples3_16.updateSettings({'smooth_scale_2D': 0.9, 'smooth_scale_1D': 0.9})\n",
    "mcsamples3_50.updateSettings({'smooth_scale_2D': 0.9, 'smooth_scale_1D': 0.9})\n",
    "g.settings.num_plot_contours = 2\n",
    "g.triangle_plot([mcsamples3_16, mcsamples3_50], filled=True, contour_colors=['blue', 'red'], \n",
    "                legend_labels=['P. 3 with 16 FRBs', 'P. 3 with 50 FRBs'], \n",
    "                title_limit=1)\n",
    "g.export('Figuras/H_p3.png', dpi=600)"
   ]
  },
  {
   "cell_type": "code",
   "execution_count": null,
   "metadata": {},
   "outputs": [],
   "source": [
    "from ultranest.plot import PredictionBand\n",
    "from equations import DM_EXT_model\n",
    "import matplotlib.pyplot as plt\n",
    "import numpy as np\n",
    "\n",
    "plt.figure()\n",
    "plt.xlabel('$z$')\n",
    "plt.ylabel('$H(z)$')\n",
    "plt.errorbar(x=z_values_16, y=dm_ext_obs_16, fmt='ro', alpha=0.6, capsize=3, color='red', label='Data', ms=4)\n",
    "\n",
    "z_test = np.linspace(0, 1, 100)\n",
    "\n",
    "band = PredictionBand(z_test)\n",
    "model_fit = DM_EXT_model()\n",
    "# go through the solutions\n",
    "for f_IGM, DM_host_0, alpha  in sampler_p2_16.results['samples']:\n",
    "    # compute for each time the y value\n",
    "    band.add(model_fit.DM_ext_th(z=z_test, f_IGM=f_IGM,\n",
    "        DM_host_0=DM_host_0,\n",
    "        model_type='p2',    \n",
    "        param=alpha))\n",
    "\n",
    "band.line(color='k', linestyle='-', label='Parameterization 3', linewidth=1.5)\n",
    "# add 1 sigma quantile\n",
    "band.shade(color='green', alpha=0.3)\n",
    "# add wider quantile (0.01 .. 0.99)\n",
    "band.shade(q=0.49, color='green', alpha=0.2)\n",
    "\n",
    "plt.legend()\n",
    "plt.savefig('Figuras/H_bestfit.png', format='png', dpi=600)"
   ]
  },
  {
   "cell_type": "code",
   "execution_count": null,
   "metadata": {},
   "outputs": [],
   "source": [
    "plt.figure()\n",
    "plt.xlabel('$z$')\n",
    "plt.ylabel('$H(z)$')\n",
    "plt.errorbar(x=z_values_50, y=dm_ext_obs_50, fmt='ro', alpha=0.6, color='red', label='Data', ms=4)\n",
    "\n",
    "# go through the solutions\n",
    "for f_IGM, DM_host_0, alpha  in sampler_p2_50.results['samples']:\n",
    "    # compute for each time the y value\n",
    "    band.add(model_fit.DM_ext_th(z=z_test, f_IGM=f_IGM,\n",
    "        DM_host_0=DM_host_0,\n",
    "        model_type='p2',    \n",
    "        param=alpha))\n",
    "\n",
    "band.line(color='k', linestyle='-', label='Parameterization 3', linewidth=1.5)\n",
    "# add 1 sigma quantile\n",
    "band.shade(color='green', alpha=0.3)\n",
    "# add wider quantile (0.01 .. 0.99)\n",
    "band.shade(q=0.49, color='green', alpha=0.2)\n",
    "\n",
    "plt.legend()\n",
    "plt.savefig('Figuras/H_bestfit_50.png', format='png', dpi=600)"
   ]
  }
 ],
 "metadata": {
  "kernelspec": {
   "display_name": "Python 3 (ipykernel)",
   "language": "python",
   "name": "python3"
  },
  "language_info": {
   "codemirror_mode": {
    "name": "ipython",
    "version": 3
   },
   "file_extension": ".py",
   "mimetype": "text/x-python",
   "name": "python",
   "nbconvert_exporter": "python",
   "pygments_lexer": "ipython3",
   "version": "3.12.6"
  }
 },
 "nbformat": 4,
 "nbformat_minor": 4
}
